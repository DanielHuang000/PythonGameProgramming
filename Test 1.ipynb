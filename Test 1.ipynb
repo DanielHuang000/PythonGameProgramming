{
 "cells": [
  {
   "cell_type": "code",
   "execution_count": 1,
   "metadata": {
    "collapsed": true
   },
   "outputs": [],
   "source": [
    "# 1. This program convert binary to a decimal number"
   ]
  },
  {
   "cell_type": "code",
   "execution_count": null,
   "metadata": {
    "collapsed": false
   },
   "outputs": [],
   "source": [
    "bin = [2]\n",
    "dec = 0\n",
    "c = 0\n",
    "T = sum(bin) >= len(bin)\n",
    "bin = input('Enter only 1s and 0s (EX: 10111): ')\n",
    "if T:\n",
    "    for c in range(len(bin)-1,-1,-1):\n",
    "        dec += int(bin[c])*(2**(len(bin)-1-c))\n",
    "print('Decimal number is ' + str(dec))\n",
    "    "
   ]
  },
  {
   "cell_type": "code",
   "execution_count": 29,
   "metadata": {
    "collapsed": true
   },
   "outputs": [],
   "source": [
    "# 2. This program write a program that calculate the equation of slopes \n",
    "# in three different forms"
   ]
  },
  {
   "cell_type": "code",
   "execution_count": 23,
   "metadata": {
    "collapsed": false
   },
   "outputs": [
    {
     "name": "stdout",
     "output_type": "stream",
     "text": [
      "Please enter x of the first pair of points: 1\n",
      "Please enter x of the second pair of points: 7\n",
      "Please enter y of the first pair of points: 2\n",
      "Please enter y of the second pair of points: 5\n",
      "standard form: {%A}y + {%B}x = {%C}k\n"
     ]
    },
    {
     "ename": "TypeError",
     "evalue": "unsupported operand type(s) for %: 'NoneType' and 'tuple'",
     "output_type": "error",
     "traceback": [
      "\u001b[0;31m---------------------------------------------------------------------------\u001b[0m",
      "\u001b[0;31mTypeError\u001b[0m                                 Traceback (most recent call last)",
      "\u001b[0;32m<ipython-input-23-f98d10cf4e26>\u001b[0m in \u001b[0;36m<module>\u001b[0;34m()\u001b[0m\n\u001b[1;32m      7\u001b[0m \u001b[0mk\u001b[0m \u001b[0;34m=\u001b[0m \u001b[0my1\u001b[0m\u001b[0;34m-\u001b[0m\u001b[0mx1\u001b[0m\u001b[0;34m*\u001b[0m\u001b[0mm\u001b[0m\u001b[0;34m\u001b[0m\u001b[0m\n\u001b[1;32m      8\u001b[0m \u001b[0;32mif\u001b[0m \u001b[0mm\u001b[0m\u001b[0;34m>\u001b[0m\u001b[0;36m0\u001b[0m\u001b[0;34m:\u001b[0m\u001b[0;34m\u001b[0m\u001b[0m\n\u001b[0;32m----> 9\u001b[0;31m     \u001b[0mprint\u001b[0m\u001b[0;34m(\u001b[0m\u001b[0;34m\"standard form: {%A}y + {%B}x = {%C}k\"\u001b[0m\u001b[0;34m)\u001b[0m \u001b[0;34m%\u001b[0m\u001b[0;34m(\u001b[0m\u001b[0;34m(\u001b[0m\u001b[0mx2\u001b[0m\u001b[0;34m-\u001b[0m\u001b[0mx1\u001b[0m\u001b[0;34m)\u001b[0m\u001b[0;34m,\u001b[0m \u001b[0;34m(\u001b[0m\u001b[0my2\u001b[0m\u001b[0;34m-\u001b[0m\u001b[0my1\u001b[0m\u001b[0;34m)\u001b[0m\u001b[0;34m,\u001b[0m \u001b[0;34m(\u001b[0m\u001b[0mx2\u001b[0m\u001b[0;34m-\u001b[0m\u001b[0mx1\u001b[0m\u001b[0;34m)\u001b[0m\u001b[0;34m)\u001b[0m\u001b[0;34m\u001b[0m\u001b[0m\n\u001b[0m\u001b[1;32m     10\u001b[0m \u001b[0;32melif\u001b[0m \u001b[0mm\u001b[0m\u001b[0;34m==\u001b[0m\u001b[0;36m0\u001b[0m\u001b[0;34m:\u001b[0m\u001b[0;34m\u001b[0m\u001b[0m\n\u001b[1;32m     11\u001b[0m     \u001b[0mprint\u001b[0m\u001b[0;34m(\u001b[0m\u001b[0;34m\"standard form: {%A}y = {%C}k\"\u001b[0m\u001b[0;34m)\u001b[0m \u001b[0;34m%\u001b[0m\u001b[0;34m(\u001b[0m\u001b[0;34m(\u001b[0m\u001b[0mx2\u001b[0m\u001b[0;34m-\u001b[0m\u001b[0mx1\u001b[0m\u001b[0;34m)\u001b[0m\u001b[0;34m,\u001b[0m \u001b[0;34m(\u001b[0m\u001b[0mx2\u001b[0m\u001b[0;34m-\u001b[0m\u001b[0mx1\u001b[0m\u001b[0;34m)\u001b[0m\u001b[0;34m)\u001b[0m\u001b[0;34m\u001b[0m\u001b[0m\n",
      "\u001b[0;31mTypeError\u001b[0m: unsupported operand type(s) for %: 'NoneType' and 'tuple'"
     ]
    }
   ],
   "source": [
    "x1 = int(input('Please enter x of the first pair of points: '))\n",
    "x2 = int(input('Please enter x of the second pair of points: '))\n",
    "y1 = int(input('Please enter y of the first pair of points: '))\n",
    "y2 = int(input('Please enter y of the second pair of points: '))\n",
    "\n",
    "m = (y2-y1)/(x2-x1)\n",
    "k = y1-x1*m\n",
    "if m>0:\n",
    "    print(\"standard form: {%A}y + {%B}x = {%C}k\") %((x2-x1), (y2-y1), (x2-x1))\n",
    "elif m==0:\n",
    "    print(\"standard form: {%A}y = {%C}k\") %((x2-x1), (x2-x1))\n",
    "else:\n",
    "    print(\"standard form: {%A}y + {%B}x = {%C}k\") %((x2-x1), (y1-y2), (x2-x1))\n",
    "print(\"slope-intercept form: y = {%D}x + {%E}\") %(m, k)\n",
    "print(\"point-slope forms: y2-y1 = {%D}(x2-x1)\") %(m)"
   ]
  },
  {
   "cell_type": "code",
   "execution_count": null,
   "metadata": {
    "collapsed": true
   },
   "outputs": [],
   "source": [
    "# 3. "
   ]
  },
  {
   "cell_type": "code",
   "execution_count": 42,
   "metadata": {
    "collapsed": false
   },
   "outputs": [
    {
     "name": "stdout",
     "output_type": "stream",
     "text": [
      "1. Latte  2. Americano  3. Expresso\n",
      "Please select the type of coffee you want: 1\n",
      "1NT per Serve\n",
      "Enter the amount of sugar you would like in range 0~5: 1\n",
      "1. BIG  2. SMALL\n",
      "Please enter the size of coffee you would like: 1\n",
      "1. Latte >> 1. Big >> price 31NT\n",
      "Ready\n",
      "2016-09-27 02:03:44.247014\n",
      "Please enter START in 10 seconds (or else the machine will start over): START\n",
      "1. Latte  2. Americano  3. Expresso\n",
      "Please select the type of coffee you want: 1\n",
      "1NT per Serve\n",
      "Enter the amount of sugar you would like in range 0~5: 1\n",
      "1. BIG  2. SMALL\n",
      "Please enter the size of coffee you would like: 1\n",
      "1. Latte >> 1. Big >> price 31NT\n",
      "Ready\n",
      "2016-09-27 02:04:30.745300\n",
      "Please enter START in 10 seconds (or else the machine will start over): START\n"
     ]
    }
   ],
   "source": [
    "import time\n",
    "\n",
    "\n",
    "cancel = False\n",
    "\n",
    "while cancel==False:\n",
    "    print('1. Latte  2. Americano  3. Expresso')\n",
    "    type = int(input('Please select the type of coffee you want: '))\n",
    "    print('1NT per Serve')\n",
    "    sugar = int(input('Enter the amount of sugar you would like in range 0~5: '))\n",
    "    print('1. BIG  2. SMALL')\n",
    "    size = int(input('Please enter the size of coffee you would like: '))\n",
    "    a=20+sugar\n",
    "    b=30+sugar\n",
    "    c=30+sugar\n",
    "    d=50+sugar\n",
    "    e=25+sugar\n",
    "    f=40+sugar\n",
    "\n",
    "    if type==1 and size==2:\n",
    "        print('1. Latte >> 2. Small >> price '+ str(a) +'NT') #a\n",
    "    if type==1 and size==1:\n",
    "        print('1. Latte >> 1. Big >> price '+ str(b) +'NT') #b\n",
    "    if type==2 and size==1:\n",
    "        print('2. Americano >> 2. Small >> price '+ str(c) +'NT') #c\n",
    "    if type==2 and size==2:\n",
    "        print('2. Americano >> 1. Big >> price '+ str(d) +'NT') #d\n",
    "    if type==3 and size==1:\n",
    "        print('3. Expresso >> 2. Small >> price '+ str(e) +'NT') #e\n",
    "    if type==3 and size==2:\n",
    "        print('3. Expresso >> 1. Big >> price '+ str(f) +'NT') #f\n",
    "    print('Ready')   \n",
    "    print(datetime.now())\n",
    "    startTime = time.perf_counter()\n",
    "    START=input('Please enter START in 10 seconds (or else the machine will start over): ')\n",
    "    if time.perf_counter() - startTime <= 10:\n",
    "        if START == \"CANCEL\":\n",
    "            continue\n",
    "        elif START == \"START\":\n",
    "            cancel=True\n",
    "            break\n",
    "    else:\n",
    "        continue\n",
    "\n"
   ]
  },
  {
   "cell_type": "markdown",
   "metadata": {},
   "source": []
  },
  {
   "cell_type": "code",
   "execution_count": null,
   "metadata": {
    "collapsed": false
   },
   "outputs": [],
   "source": []
  },
  {
   "cell_type": "code",
   "execution_count": null,
   "metadata": {
    "collapsed": true
   },
   "outputs": [],
   "source": []
  },
  {
   "cell_type": "code",
   "execution_count": null,
   "metadata": {
    "collapsed": true
   },
   "outputs": [],
   "source": []
  }
 ],
 "metadata": {
  "anaconda-cloud": {},
  "kernelspec": {
   "display_name": "Python [Root]",
   "language": "python",
   "name": "Python [Root]"
  },
  "language_info": {
   "codemirror_mode": {
    "name": "ipython",
    "version": 3
   },
   "file_extension": ".py",
   "mimetype": "text/x-python",
   "name": "python",
   "nbconvert_exporter": "python",
   "pygments_lexer": "ipython3",
   "version": "3.5.2"
  }
 },
 "nbformat": 4,
 "nbformat_minor": 0
}

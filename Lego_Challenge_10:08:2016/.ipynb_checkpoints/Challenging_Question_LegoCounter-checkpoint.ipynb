{
 "cells": [
  {
   "cell_type": "code",
   "execution_count": 1,
   "metadata": {
    "collapsed": false
   },
   "outputs": [],
   "source": [
    "\n",
    "import numpy as np\n",
    "\n",
    "\n",
    "\n",
    "legos = np.loadtxt('Legos.txt',delimiter=',')\n",
    "\n",
    "\n",
    "\n",
    "\n",
    "\n",
    "\n",
    "\n",
    "\n"
   ]
  },
  {
   "cell_type": "code",
   "execution_count": 1,
   "metadata": {
    "collapsed": false
   },
   "outputs": [
    {
     "ename": "SyntaxError",
     "evalue": "invalid syntax (<ipython-input-1-1bc2b535cce6>, line 3)",
     "output_type": "error",
     "traceback": [
      "\u001b[0;36m  File \u001b[0;32m\"<ipython-input-1-1bc2b535cce6>\"\u001b[0;36m, line \u001b[0;32m3\u001b[0m\n\u001b[0;31m    export LC_ALL=en_US.UTF-8\u001b[0m\n\u001b[0m                ^\u001b[0m\n\u001b[0;31mSyntaxError\u001b[0m\u001b[0;31m:\u001b[0m invalid syntax\n"
     ]
    }
   ],
   "source": [
    "import numpy as np\n",
    "import matplotlib.pyplot as plt\n",
    "export LC_ALL=en_US.UTF-8\n",
    "export LANG=en_US.UTF-8\n",
    "\n",
    "legos = np.loadtxt('Legos.txt',delimiter=',')\n",
    "\n",
    "#not sure how to use these...\n",
    "\"\"\"\n",
    "len(legos)\n",
    "np.shape(legos)\n",
    "for x, y in legos:\n",
    "    print(x,y)\n",
    "for x, y in legos:\n",
    "    plt.show(x,y,color='gray')\n",
    "\n",
    "plt.show()\n",
    "\"\"\"\n",
    "\n",
    "def distance(a,b):\n",
    "    d=(a**2+b**2)**1/2\n",
    "    return d\n",
    "\n",
    "Bricks=0\n",
    "Beams=0\n",
    "\n",
    "for n in len(lego):\n",
    "    x1=abs(x-3)\n",
    "    y1=abs(x-5)\n",
    "    x2=abs(x-7)\n",
    "    y2=abs(x-4)\n",
    "    distance(x,y)\n",
    "    if (distance(x1,y1)<=distance(x2,y2)):\n",
    "        Beams+=1\n",
    "    else:\n",
    "        Bricks+=1\n",
    "\n",
    "print(\"Beams = \" + str(Beams))\n",
    "print(\"Bricks = \" + str(Bricks))\n",
    "\n",
    "\n"
   ]
  },
  {
   "cell_type": "code",
   "execution_count": null,
   "metadata": {
    "collapsed": true
   },
   "outputs": [],
   "source": []
  }
 ],
 "metadata": {
  "anaconda-cloud": {},
  "kernelspec": {
   "display_name": "Python [Root]",
   "language": "python",
   "name": "Python [Root]"
  },
  "language_info": {
   "codemirror_mode": {
    "name": "ipython",
    "version": 3
   },
   "file_extension": ".py",
   "mimetype": "text/x-python",
   "name": "python",
   "nbconvert_exporter": "python",
   "pygments_lexer": "ipython3",
   "version": "3.5.2"
  }
 },
 "nbformat": 4,
 "nbformat_minor": 0
}

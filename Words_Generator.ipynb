{
 "cells": [
  {
   "cell_type": "code",
   "execution_count": 1,
   "metadata": {
    "collapsed": false
   },
   "outputs": [
    {
     "ename": "SyntaxError",
     "evalue": "invalid syntax (<ipython-input-1-616cc0dfaed6>, line 19)",
     "output_type": "error",
     "traceback": [
      "\u001b[0;36m  File \u001b[0;32m\"<ipython-input-1-616cc0dfaed6>\"\u001b[0;36m, line \u001b[0;32m19\u001b[0m\n\u001b[0;31m    \"\"\" This function generate random numbers according to the possibility\u001b[0m\n\u001b[0m                                                                           \n^\u001b[0m\n\u001b[0;31mSyntaxError\u001b[0m\u001b[0;31m:\u001b[0m invalid syntax\n"
     ]
    }
   ],
   "source": [
    "import numpy as np\n",
    "\n",
    "\n",
    "def readfiles():\n",
    "    \"\"\" This is a function that read files\n",
    "       input: name fo the file (url/path)\n",
    "       output: a list \"\"\"\n",
    "    with open('article.txt', 'r') as text:\n",
    "        text = myfile.readlines()\n",
    "    \n",
    "#text = np.loadtxt('article.txt')\n",
    "\n",
    "print(text)\n",
    "\n",
    "\"\"\"\n",
    "num = input(int(\"Please enter the amount of words you want to generate\"))\n",
    "\n",
    "def randNum()\n",
    "\"\"\" This function generate random numbers according to the possibility \n",
    "\"\"\"\n",
    "    return\n",
    "    \n",
    "def \n",
    "\n",
    "def generator(num,word):\n",
    "\"\"\"\n",
    "\"\"\"\n",
    "    text=text.split()\n",
    "    for x in num:\n",
    "        \n",
    "    return\n",
    "\n",
    "generator()\n",
    "\n",
    "\"\"\"\n",
    "\n",
    "\n",
    "\n",
    "\n",
    "\n",
    "\n",
    "\n",
    "\n",
    "\n"
   ]
  },
  {
   "cell_type": "code",
   "execution_count": null,
   "metadata": {
    "collapsed": true
   },
   "outputs": [],
   "source": []
  }
 ],
 "metadata": {
  "anaconda-cloud": {},
  "kernelspec": {
   "display_name": "Python [Root]",
   "language": "python",
   "name": "Python [Root]"
  },
  "language_info": {
   "codemirror_mode": {
    "name": "ipython",
    "version": 3
   },
   "file_extension": ".py",
   "mimetype": "text/x-python",
   "name": "python",
   "nbconvert_exporter": "python",
   "pygments_lexer": "ipython3",
   "version": "3.5.2"
  }
 },
 "nbformat": 4,
 "nbformat_minor": 0
}

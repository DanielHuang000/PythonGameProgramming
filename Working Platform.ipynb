{
 "cells": [
  {
   "cell_type": "code",
   "execution_count": 20,
   "metadata": {
    "collapsed": false
   },
   "outputs": [
    {
     "name": "stdout",
     "output_type": "stream",
     "text": [
      "Hello World +1\n"
     ]
    }
   ],
   "source": [
    "import math\n",
    "print (\"Hello World +1\")"
   ]
  },
  {
   "cell_type": "code",
   "execution_count": 49,
   "metadata": {
    "collapsed": false
   },
   "outputs": [
    {
     "name": "stdout",
     "output_type": "stream",
     "text": [
      "please enter a interger for the length of the cubes : 1\n",
      "please enter a inter for the faces of the combination of cubes : 18\n"
     ]
    }
   ],
   "source": [
    "\"\"\"\n",
    "This is a program computes the area and volume of cubes\n",
    "The input is the length of a side of the cubes\n",
    "\"\"\"\n",
    "a=input(\"please enter a interger for the length of the cubes : \")\n",
    "b=int(input(\"please enter a inter for the faces of the combination of cubes : \"))"
   ]
  },
  {
   "cell_type": "code",
   "execution_count": 48,
   "metadata": {
    "collapsed": false
   },
   "outputs": [
    {
     "name": "stdout",
     "output_type": "stream",
     "text": [
      "This is the volume for the combination of 4 cubes:\n",
      "4\n"
     ]
    }
   ],
   "source": [
    "print(\"This is the volume for the combination of 4 cubes:\")\n",
    "print(pow(int(a),3)*4)"
   ]
  },
  {
   "cell_type": "code",
   "execution_count": 50,
   "metadata": {
    "collapsed": false
   },
   "outputs": [
    {
     "name": "stdout",
     "output_type": "stream",
     "text": [
      "These are the three kinds of surface area:\n",
      "18\n"
     ]
    }
   ],
   "source": [
    "print(\"These are the three kinds of surface area:\")\n",
    "print(pow(int(a),2)*b)\n",
    "\n",
    "\n",
    "    "
   ]
  },
  {
   "cell_type": "code",
   "execution_count": 42,
   "metadata": {
    "collapsed": false
   },
   "outputs": [
    {
     "name": "stdout",
     "output_type": "stream",
     "text": [
      "please enter A (interger) for the quadratic function Ax^2 +Bx +C : 1\n",
      "please enter B (interger) for the quadratic function Ax^2 +Bx +C : 4\n",
      "please enter C (interger) for the quadratic function Ax^2 +Bx +C : 4\n"
     ]
    }
   ],
   "source": [
    "\"\"\"\n",
    "This is a program caculates the solution of the quadratic function\n",
    "\"\"\"\n",
    "A=int(input(\"please enter A (interger) for the quadratic function Ax^2 +Bx +C : \"))\n",
    "B=int(input(\"please enter B (interger) for the quadratic function Ax^2 +Bx +C : \"))\n",
    "C=int(input(\"please enter C (interger) for the quadratic function Ax^2 +Bx +C : \"))"
   ]
  },
  {
   "cell_type": "code",
   "execution_count": 52,
   "metadata": {
    "collapsed": false
   },
   "outputs": [
    {
     "ename": "SyntaxError",
     "evalue": "invalid syntax (<ipython-input-52-e89e5a4bd978>, line 1)",
     "output_type": "error",
     "traceback": [
      "\u001b[0;36m  File \u001b[0;32m\"<ipython-input-52-e89e5a4bd978>\"\u001b[0;36m, line \u001b[0;32m1\u001b[0m\n\u001b[0;31m    inside_sqrt =\u001b[0m\n\u001b[0m                  ^\u001b[0m\n\u001b[0;31mSyntaxError\u001b[0m\u001b[0;31m:\u001b[0m invalid syntax\n"
     ]
    }
   ],
   "source": [
    "inside_sqrt = \n",
    "if inside_sqrt < 0:\n",
    "    A=int(input(\"please enter A (interger) for the quadratic function Ax^2 +Bx +C : \"))\n",
    "    B=int(input(\"please enter B (interger) for the quadratic function Ax^2 +Bx +C : \"))\n",
    "    C=int(input(\"please enter C (interger) for the quadratic function Ax^2 +Bx +C : \"))\n",
    "\n"
   ]
  },
  {
   "cell_type": "code",
   "execution_count": null,
   "metadata": {
    "collapsed": false
   },
   "outputs": [],
   "source": [
    "x=(-B + math.sqrt(pow(B,2)-4*A*C))/(2*A)\n",
    "y=(-B - math.sqrt(pow(B,2)-4*A*C))/(2*A)\n",
    "print(\"The answer is \" + str(x) + \" or \" + str(y))"
   ]
  },
  {
   "cell_type": "markdown",
   "metadata": {
    "collapsed": true
   },
   "source": [
    "# Today's proram is about the solar system\n",
    "\n",
    "$d=\\sqrt{(e_x - p_x)^2 + (e_y - p_y)^2 + (e_z - P_z)^2}$\n",
    "\n"
   ]
  },
  {
   "cell_type": "code",
   "execution_count": 15,
   "metadata": {
    "collapsed": false
   },
   "outputs": [
    {
     "name": "stdout",
     "output_type": "stream",
     "text": [
      "venus\n",
      "Please enter the correct name of planets\n"
     ]
    }
   ],
   "source": [
    "\"\"\"\n",
    "This program shows the size and distance of the planes in the solar system with refrence to the earth\n",
    "the user enters the planet's name\n",
    "\"\"\"\n",
    "\n",
    "name =input()\n",
    "\n",
    "if name != 'Venus' and 'Mars' and 'Mercury' and 'Jupiter' and 'Saturn' and 'Uranus' and 'Neptune' and 'Earth':\n",
    "    print(\"Please enter the correct name of planets\")\n",
    "\n",
    "    \n",
    "if name == 'Earth':\n",
    "    print(\"Its distance from the Earth is: 0.0 km\")\n",
    "    print('Its diameter is 12,756 km')\n",
    "if name == 'Venus':\n",
    "    print(\"Its distance from the Earth is: 42,000,000 km\")\n",
    "    print('Its diameter is 12,104 km')\n",
    "if name == 'Mars':\n",
    "    print(\"Its distance from the Earth is: 78,000,000 km\")\n",
    "    print('Its diameter is 6,780 km')\n",
    "if name == 'Mercury':\n",
    "    print(\"Its distance from the Earth is: 92,000,000 km\")\n",
    "    print('Its diameter is 4,878 km')\n",
    "if name == 'Jupiter':\n",
    "    print(\"Its distance from the Earth is: 628,000,000 km\")\n",
    "    print('Its diameter is 139,822 km')\n",
    "if name == 'Saturn':\n",
    "    print(\"Its distance from the Earth is: 1,277,000,000 km\")\n",
    "    print('Its diameter is 116,464 km')\n",
    "if name == 'Uranus':\n",
    "    print(\"Its distance from the Earth is: 2,720,000,000 km\")\n",
    "    print('Its diameter is 50,724 km')\n",
    "if name == 'Neptune':\n",
    "    print(\"Its distance from the Earth is: 4,347,000,000 km\")\n",
    "    print('Its diameter is 49,248 km')\n"
   ]
  },
  {
   "cell_type": "code",
   "execution_count": 5,
   "metadata": {
    "collapsed": false
   },
   "outputs": [
    {
     "data": {
      "text/plain": [
       "'3.5.2 |Anaconda 4.1.1 (x86_64)| (default, Jul  2 2016, 17:52:12) \\n[GCC 4.2.1 Compatible Apple LLVM 4.2 (clang-425.0.28)]'"
      ]
     },
     "execution_count": 5,
     "metadata": {},
     "output_type": "execute_result"
    }
   ],
   "source": [
    "import sys\n",
    "\n",
    "sys.version\n"
   ]
  },
  {
   "cell_type": "code",
   "execution_count": 22,
   "metadata": {
    "collapsed": false
   },
   "outputs": [
    {
     "name": "stdout",
     "output_type": "stream",
     "text": [
      "1001\n",
      "good job for getting bonus, but still A+\n"
     ]
    }
   ],
   "source": [
    "#This program translate the point score to letter grade EX: A+,A etc\n",
    "\n",
    "score = int(input())\n",
    "\n",
    "if score >100:\n",
    "    print('good job for getting bonus, but still A+')\n",
    "elif 100>= score >=97 :\n",
    "    print('A+')\n",
    "elif 97> score >=93 :\n",
    "    print('A')\n",
    "elif 93> score >=90 :\n",
    "    print('A-')\n",
    "elif 90> score >=87 :\n",
    "    print('B+')\n",
    "elif 87> score >=83 :\n",
    "    print('B')\n",
    "elif 83> score >=80 :\n",
    "    print('B-')\n",
    "elif 80> score >=77 :\n",
    "    print('C+')\n",
    "elif 77> score >=73 :\n",
    "    print('C')\n",
    "elif 73> score >=70 :\n",
    "    print('C-')\n",
    "elif 70> score >=67 :\n",
    "    print('D+')\n",
    "elif 67> score >=63 :\n",
    "    print('D')\n",
    "elif 63> score >=60 :\n",
    "    print('D-')\n",
    "elif 60> score >=0 :\n",
    "    print('F')\n",
    "else:\n",
    "    print('F- ....seems like teacher doesnt like you')"
   ]
  },
  {
   "cell_type": "code",
   "execution_count": null,
   "metadata": {
    "collapsed": true
   },
   "outputs": [],
   "source": []
  },
  {
   "cell_type": "code",
   "execution_count": null,
   "metadata": {
    "collapsed": true
   },
   "outputs": [],
   "source": []
  }
 ],
 "metadata": {
  "anaconda-cloud": {},
  "kernelspec": {
   "display_name": "Python [Root]",
   "language": "python",
   "name": "Python [Root]"
  },
  "language_info": {
   "codemirror_mode": {
    "name": "ipython",
    "version": 3
   },
   "file_extension": ".py",
   "mimetype": "text/x-python",
   "name": "python",
   "nbconvert_exporter": "python",
   "pygments_lexer": "ipython3",
   "version": "3.5.2"
  }
 },
 "nbformat": 4,
 "nbformat_minor": 0
}

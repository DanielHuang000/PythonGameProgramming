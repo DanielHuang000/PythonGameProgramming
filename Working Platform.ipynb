{
 "cells": [
  {
   "cell_type": "code",
   "execution_count": 20,
   "metadata": {
    "collapsed": false
   },
   "outputs": [
    {
     "name": "stdout",
     "output_type": "stream",
     "text": [
      "Hello World +1\n"
     ]
    }
   ],
   "source": [
    "import math\n",
    "print (\"Hello World +1\")"
   ]
  },
  {
   "cell_type": "code",
   "execution_count": 49,
   "metadata": {
    "collapsed": false
   },
   "outputs": [
    {
     "name": "stdout",
     "output_type": "stream",
     "text": [
      "please enter a interger for the length of the cubes : 1\n",
      "please enter a inter for the faces of the combination of cubes : 18\n"
     ]
    }
   ],
   "source": [
    "\"\"\"\n",
    "This is a program computes the area and volume of cubes\n",
    "The input is the length of a side of the cubes\n",
    "\"\"\"\n",
    "a=input(\"please enter a interger for the length of the cubes : \")\n",
    "b=int(input(\"please enter a inter for the faces of the combination of cubes : \"))"
   ]
  },
  {
   "cell_type": "code",
   "execution_count": 48,
   "metadata": {
    "collapsed": false
   },
   "outputs": [
    {
     "name": "stdout",
     "output_type": "stream",
     "text": [
      "This is the volume for the combination of 4 cubes:\n",
      "4\n"
     ]
    }
   ],
   "source": [
    "print(\"This is the volume for the combination of 4 cubes:\")\n",
    "print(pow(int(a),3)*4)"
   ]
  },
  {
   "cell_type": "code",
   "execution_count": 50,
   "metadata": {
    "collapsed": false
   },
   "outputs": [
    {
     "name": "stdout",
     "output_type": "stream",
     "text": [
      "These are the three kinds of surface area:\n",
      "18\n"
     ]
    }
   ],
   "source": [
    "print(\"These are the three kinds of surface area:\")\n",
    "print(pow(int(a),2)*b)\n",
    "\n",
    "\n",
    "    "
   ]
  },
  {
   "cell_type": "code",
   "execution_count": 42,
   "metadata": {
    "collapsed": false
   },
   "outputs": [
    {
     "name": "stdout",
     "output_type": "stream",
     "text": [
      "please enter A (interger) for the quadratic function Ax^2 +Bx +C : 1\n",
      "please enter B (interger) for the quadratic function Ax^2 +Bx +C : 4\n",
      "please enter C (interger) for the quadratic function Ax^2 +Bx +C : 4\n"
     ]
    }
   ],
   "source": [
    "\"\"\"\n",
    "This is a program caculates the solution of the quadratic function\n",
    "\"\"\"\n",
    "A=int(input(\"please enter A (interger) for the quadratic function Ax^2 +Bx +C : \"))\n",
    "B=int(input(\"please enter B (interger) for the quadratic function Ax^2 +Bx +C : \"))\n",
    "C=int(input(\"please enter C (interger) for the quadratic function Ax^2 +Bx +C : \"))"
   ]
  },
  {
   "cell_type": "code",
   "execution_count": 52,
   "metadata": {
    "collapsed": false
   },
   "outputs": [
    {
     "ename": "SyntaxError",
     "evalue": "invalid syntax (<ipython-input-52-e89e5a4bd978>, line 1)",
     "output_type": "error",
     "traceback": [
      "\u001b[0;36m  File \u001b[0;32m\"<ipython-input-52-e89e5a4bd978>\"\u001b[0;36m, line \u001b[0;32m1\u001b[0m\n\u001b[0;31m    inside_sqrt =\u001b[0m\n\u001b[0m                  ^\u001b[0m\n\u001b[0;31mSyntaxError\u001b[0m\u001b[0;31m:\u001b[0m invalid syntax\n"
     ]
    }
   ],
   "source": [
    "inside_sqrt = \n",
    "if inside_sqrt < 0:\n",
    "    A=int(input(\"please enter A (interger) for the quadratic function Ax^2 +Bx +C : \"))\n",
    "    B=int(input(\"please enter B (interger) for the quadratic function Ax^2 +Bx +C : \"))\n",
    "    C=int(input(\"please enter C (interger) for the quadratic function Ax^2 +Bx +C : \"))\n",
    "\n"
   ]
  },
  {
   "cell_type": "code",
   "execution_count": null,
   "metadata": {
    "collapsed": false
   },
   "outputs": [],
   "source": [
    "x=(-B + math.sqrt(pow(B,2)-4*A*C))/(2*A)\n",
    "y=(-B - math.sqrt(pow(B,2)-4*A*C))/(2*A)\n",
    "print(\"The answer is \" + str(x) + \" or \" + str(y))"
   ]
  },
  {
   "cell_type": "markdown",
   "metadata": {
    "collapsed": true
   },
   "source": [
    "# Today's proram is about the solar system\n",
    "\n",
    "$d=\\sqrt{(e_x - p_x)^2 + (e_y - p_y)^2 + (e_z - P_z)^2}$\n",
    "\n"
   ]
  },
  {
   "cell_type": "code",
   "execution_count": null,
   "metadata": {
    "collapsed": true
   },
   "outputs": [],
   "source": []
  },
  {
   "cell_type": "code",
   "execution_count": null,
   "metadata": {
    "collapsed": true
   },
   "outputs": [],
   "source": []
  }
 ],
 "metadata": {
  "anaconda-cloud": {},
  "kernelspec": {
   "display_name": "Python [Root]",
   "language": "python",
   "name": "Python [Root]"
  },
  "language_info": {
   "codemirror_mode": {
    "name": "ipython",
    "version": 3
   },
   "file_extension": ".py",
   "mimetype": "text/x-python",
   "name": "python",
   "nbconvert_exporter": "python",
   "pygments_lexer": "ipython3",
   "version": "3.5.2"
  }
 },
 "nbformat": 4,
 "nbformat_minor": 0
}

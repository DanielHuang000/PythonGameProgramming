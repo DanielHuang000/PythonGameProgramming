{
 "cells": [
  {
   "cell_type": "code",
   "execution_count": 1,
   "metadata": {
    "collapsed": true
   },
   "outputs": [],
   "source": [
    "# 1. This program convert binary to a decimal number"
   ]
  },
  {
   "cell_type": "code",
   "execution_count": null,
   "metadata": {
    "collapsed": false
   },
   "outputs": [],
   "source": [
    "bin = [2]\n",
    "dec = 0\n",
    "c = 0\n",
    "T = sum(bin) >= len(bin)\n",
    "bin = input('Enter only 1s and 0s (EX: 10111): ')\n",
    "if T:\n",
    "    for c in range(len(bin)-1,-1,-1):\n",
    "        dec += int(bin[c])*(2**(len(bin)-1-c))\n",
    "print('Decimal number is ' + str(dec))\n",
    "    "
   ]
  },
  {
   "cell_type": "markdown",
   "metadata": {
    "collapsed": true
   },
   "source": [
    "# 2. This program write a program that calculate the equation of slopes \n",
    "# in three different forms\n",
    "\n",
    "1. point-slope forms: $(y_2 - y_1) = m*(x_2 - x_1)$ (we can calculate slope with this function easily)\n",
    "2. slope-intercept forms: $y=m*x+k$ (after we get the slope, we can simply plugin this function to find the constant \"k\")\n",
    "3. standard forms: $A*y + B*x = C*k$ (This is a proper way to show your equation, while A, B, C are integer and A>0)"
   ]
  },
  {
   "cell_type": "code",
   "execution_count": 9,
   "metadata": {
    "collapsed": false
   },
   "outputs": [
    {
     "name": "stdout",
     "output_type": "stream",
     "text": [
      "Please enter x of the first pair of points: 1\n",
      "Please enter x of the second pair of points: 7\n",
      "Please enter y of the first pair of points: 2\n",
      "Please enter y of the second pair of points: 5\n",
      "standard form: 6y + 3x = 6k\n",
      "slope-intercept form: y = 0.5x + 1.5\n",
      "point-slope forms: y2-y1 = 0.5(x2-x1)\n"
     ]
    }
   ],
   "source": [
    "x1 = int(input('Please enter x of the first pair of points: '))\n",
    "x2 = int(input('Please enter x of the second pair of points: '))\n",
    "y1 = int(input('Please enter y of the first pair of points: '))\n",
    "y2 = int(input('Please enter y of the second pair of points: '))\n",
    "\n",
    "m = (y2-y1)/(x2-x1)   # using the first function to find slope \"m\"\n",
    "k = y1-x1*m           # using slope and the second function to find constant \"k\"\n",
    "if m>0:\n",
    "    print(\"standard form: {}y + {}x = {}k\".format((x2-x1), (y2-y1), (x2-x1)))\n",
    "elif m==0:\n",
    "    print(\"standard form: {}y = {}k\".format((x2-x1), (x2-x1)))\n",
    "else:\n",
    "    print(\"standard form: {}y + {}x = {}k\".format((x2-x1), (y1-y2), (x2-x1)))\n",
    "print(\"slope-intercept form: y = {}x + {}\".format(m, k))\n",
    "print(\"point-slope forms: y2-y1 = {}(x2-x1)\".format(m))"
   ]
  },
  {
   "cell_type": "code",
   "execution_count": null,
   "metadata": {
    "collapsed": true
   },
   "outputs": [],
   "source": [
    "# 3. This is a program of coffee machine (ask the user for coffees they like >> print the result >> ask if they are sure >> provide coffee)"
   ]
  },
  {
   "cell_type": "code",
   "execution_count": 33,
   "metadata": {
    "collapsed": false
   },
   "outputs": [
    {
     "name": "stdout",
     "output_type": "stream",
     "text": [
      "1. Latte  2. Americano  3. Expresso\n",
      "Please select the type of coffee you want: 1\n",
      "-------------------\n",
      "1NT per Serve\n",
      "Enter the amount of sugar you would like in range 0~5: 1\n",
      "-------------------\n",
      "1. BIG  2. SMALL\n",
      "Please enter the size of coffee you would like: 1\n",
      "-------------------\n",
      "1. Latte >> 1. Big >> price 31NT >> 6sec\n",
      "Ready\n",
      "Please enter START in 10 seconds (or else the machine will start over): START\n",
      "Here is your Latte~~~\n"
     ]
    }
   ],
   "source": [
    "import time\n",
    "\n",
    "\n",
    "cancel = False\n",
    "\n",
    "while cancel==False:\n",
    "    print('1. Latte  2. Americano  3. Expresso')\n",
    "    type = int(input('Please select the type of coffee you want: '))\n",
    "    while type!=1 and type!=2 and type!=3:\n",
    "        type = int(input('please enter the correct coffee: '))\n",
    "    print('-------------------')\n",
    "    print('1NT per Serve')\n",
    "    sugar = int(input('Enter the amount of sugar you would like in range 0~5: '))\n",
    "    while sugar!=1 and sugar!=2 and sugar!=3 and sugar!=4 and sugar!=5:\n",
    "        sugar = int(input('please enter the correct amount of sugar: '))\n",
    "    print('-------------------')\n",
    "    print('1. BIG  2. SMALL')\n",
    "    size = int(input('Please enter the size of coffee you would like: '))\n",
    "    while size!=1 and size!=2:\n",
    "        size = int(input('please enter the correct size: '))\n",
    "    print('-------------------')\n",
    "\"\"\"\n",
    "    a=20+sugar\n",
    "    b=30+sugar\n",
    "    c=30+sugar\n",
    "    d=50+sugar\n",
    "    e=25+sugar\n",
    "    f=40+sugar\n",
    "\n",
    "    if type==1 and size==2:\n",
    "        print('1. Latte >> 2. Small >> price '+ str(a) +'NT' + ' >> 6sec') #a\n",
    "    if type==1 and size==1:\n",
    "        print('1. Latte >> 1. Big >> price '+ str(b) +'NT'+ ' >> 6sec') #b\n",
    "    if type==2 and size==1:\n",
    "        print('2. Americano >> 2. Small >> price '+ str(c) +'NT'+ ' >> 4sec') #c\n",
    "    if type==2 and size==2:\n",
    "        print('2. Americano >> 1. Big >> price '+ str(d) +'NT'+ ' >> 4sec') #d\n",
    "    if type==3 and size==1:\n",
    "        print('3. Expresso >> 2. Small >> price '+ str(e) +'NT'+ ' >> 5sec') #e\n",
    "    if type==3 and size==2:\n",
    "        print('3. Expresso >> 1. Big >> price '+ str(f) +'NT'+ ' >> 5sec') #f\n",
    "    print('Ready')   \n",
    "    \"\"\"\n",
    "    menu(type, )\n",
    "    #print(datetime.now())\n",
    "    startTime = time.perf_counter()\n",
    "    START=input('Please enter START in 10 seconds (or else the machine will start over): ')\n",
    "    if time.perf_counter() - startTime <= 10:\n",
    "        if START == \"CANCEL\":\n",
    "            continue\n",
    "        elif START == \"START\":\n",
    "            cancel=True\n",
    "            if type==1:\n",
    "                time.sleep(6)\n",
    "                print(\"Here is your Latte~~~\")\n",
    "            if type==2:\n",
    "                time.sleep(4)\n",
    "                print(\"Here is your Americano~~~\")\n",
    "            if type==3:\n",
    "                time.sleep(5)\n",
    "                print(\"Here is your Expresso~~~\")\n",
    "            break\n",
    "    else:\n",
    "        continue\n",
    "\n"
   ]
  },
  {
   "cell_type": "code",
   "execution_count": null,
   "metadata": {
    "collapsed": true
   },
   "outputs": [],
   "source": [
    "# 3.5 The same program using functions"
   ]
  },
  {
   "cell_type": "code",
   "execution_count": null,
   "metadata": {
    "collapsed": false
   },
   "outputs": [
    {
     "name": "stdout",
     "output_type": "stream",
     "text": [
      "1. Latte  2. Americano  3. Expresso\n"
     ]
    }
   ],
   "source": [
    "import time\n",
    "\n",
    "def menu(typeCoffee, size, sugar):\n",
    "    \"Prints the menu of the coffee machine\"\n",
    "    \n",
    "    a=20+sugar\n",
    "    b=30+sugar\n",
    "    c=30+sugar\n",
    "    d=50+sugar\n",
    "    e=25+sugar\n",
    "    f=40+sugar\n",
    "\n",
    "    if typeCoffee==1 and size==2:\n",
    "        print('1. Latte >> 2. Small >> price '+ str(a) +'NT' + ' >> 6sec') #a\n",
    "    if typeCoffee==1 and size==1:\n",
    "        print('1. Latte >> 1. Big >> price '+ str(b) +'NT'+ ' >> 6sec') #b\n",
    "    if typeCoffee==2 and size==1:\n",
    "        print('2. Americano >> 2. Small >> price '+ str(c) +'NT'+ ' >> 4sec') #c\n",
    "    if typeCoffee==2 and size==2:\n",
    "        print('2. Americano >> 1. Big >> price '+ str(d) +'NT'+ ' >> 4sec') #d\n",
    "    if typeCoffee==3 and size==1:\n",
    "        print('3. Expresso >> 2. Small >> price '+ str(e) +'NT'+ ' >> 5sec') #e\n",
    "    if typeCoffee==3 and size==2:\n",
    "        print('3. Expresso >> 1. Big >> price '+ str(f) +'NT'+ ' >> 5sec') #f\n",
    "    print('Ready') \n",
    "    return\n",
    "\n",
    "cancel = False\n",
    "\n",
    "while cancel==False:\n",
    "    print('1. Latte  2. Americano  3. Expresso')\n",
    "    typeCoffee = int(input('Please select the type of coffee you want: '))\n",
    "    while typeCoffee!=1 and typeCoffee!=2 and typeCoffee!=3:\n",
    "        typeCoffee = int(input('please enter the correct coffee: '))\n",
    "    print('-------------------')\n",
    "    print('1NT per Serve')\n",
    "    sugar = int(input('Enter the amount of sugar you would like in range 0~5: '))\n",
    "    while sugar!=1 and sugar!=2 and sugar!=3 and sugar!=4 and sugar!=5:\n",
    "        sugar = int(input('please enter the correct amount of sugar: '))\n",
    "    print('-------------------')\n",
    "    print('1. BIG  2. SMALL')\n",
    "    size = int(input('Please enter the size of coffee you would like: '))\n",
    "    while size!=1 and size!=2:\n",
    "        size = int(input('please enter the correct size: '))\n",
    "    print('-------------------')\n",
    "    \n",
    "    menu(typeCoffee, size, sugar)\n",
    "    #print(datetime.now())\n",
    "    startTime = time.perf_counter()\n",
    "    START=input('Please enter START in 10 seconds (or else the machine will start over): ')\n",
    "    if time.perf_counter() - startTime <= 10:\n",
    "        if START == \"CANCEL\":\n",
    "            continue\n",
    "        elif START == \"START\":\n",
    "            cancel=True\n",
    "            if typeCoffee==1:\n",
    "                time.sleep(6)\n",
    "                print(\"Here is your Latte~~~\")\n",
    "            if typeCoffee==2:\n",
    "                time.sleep(4)\n",
    "                print(\"Here is your Americano~~~\")\n",
    "            if typeCoffee==3:\n",
    "                time.sleep(5)\n",
    "                print(\"Here is your Expresso~~~\")\n",
    "            break\n",
    "    else:\n",
    "        continue"
   ]
  },
  {
   "cell_type": "code",
   "execution_count": null,
   "metadata": {
    "collapsed": false
   },
   "outputs": [],
   "source": []
  },
  {
   "cell_type": "code",
   "execution_count": null,
   "metadata": {
    "collapsed": true
   },
   "outputs": [],
   "source": []
  },
  {
   "cell_type": "code",
   "execution_count": null,
   "metadata": {
    "collapsed": true
   },
   "outputs": [],
   "source": []
  }
 ],
 "metadata": {
  "anaconda-cloud": {},
  "kernelspec": {
   "display_name": "Python [Root]",
   "language": "python",
   "name": "Python [Root]"
  },
  "language_info": {
   "codemirror_mode": {
    "name": "ipython",
    "version": 3
   },
   "file_extension": ".py",
   "mimetype": "text/x-python",
   "name": "python",
   "nbconvert_exporter": "python",
   "pygments_lexer": "ipython3",
   "version": "3.5.2"
  }
 },
 "nbformat": 4,
 "nbformat_minor": 0
}

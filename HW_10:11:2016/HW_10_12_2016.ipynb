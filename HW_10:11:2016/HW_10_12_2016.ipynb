{
 "cells": [
  {
   "cell_type": "code",
   "execution_count": 2,
   "metadata": {
    "collapsed": false
   },
   "outputs": [
    {
     "data": {
      "text/plain": [
       "6"
      ]
     },
     "execution_count": 2,
     "metadata": {},
     "output_type": "execute_result"
    }
   ],
   "source": [
    "#Question 1) Create a function, which let users to enter a list of integers, \n",
    "#            and multiply all the number to get the result\n",
    "\n",
    "def multiply(A):\n",
    "    r=1\n",
    "    for x in A:\n",
    "        if (type(x) != int):\n",
    "            continue\n",
    "        r*=x\n",
    "    \n",
    "    return r\n",
    "A=[]\n",
    "multiply([1,2,3,'4'])"
   ]
  },
  {
   "cell_type": "code",
   "execution_count": 38,
   "metadata": {
    "collapsed": false
   },
   "outputs": [
    {
     "name": "stdout",
     "output_type": "stream",
     "text": [
      "[1, 3, 6, 10, 15]\n"
     ]
    }
   ],
   "source": [
    "#Question 2) This function creates the accumulated sums of a list\n",
    "\n",
    "def accumulate(original):\n",
    "    n=0\n",
    "    for x in range(original[-1]):\n",
    "        n+= original[x]\n",
    "        original[x]=n\n",
    "    print(original)\n",
    "    return\n",
    "accumulate([1,2,3,4,5])"
   ]
  },
  {
   "cell_type": "code",
   "execution_count": 28,
   "metadata": {
    "collapsed": false
   },
   "outputs": [
    {
     "name": "stdout",
     "output_type": "stream",
     "text": [
      "[2, 4, 5, 8, 5]\n"
     ]
    }
   ],
   "source": [
    "#Question 3) This function is create to only returns the elements on odd positions in a list\n",
    "\n",
    "\n",
    "def odd(EX):\n",
    "    a=1\n",
    "    for x in EX:\n",
    "        del EX[a]\n",
    "        a+=1\n",
    "    print(EX)\n",
    "    return\n",
    "\n",
    "odd([2,3,4,1,5,7,8,2,5,3])"
   ]
  },
  {
   "cell_type": "code",
   "execution_count": 10,
   "metadata": {
    "collapsed": false
   },
   "outputs": [
    {
     "name": "stdout",
     "output_type": "stream",
     "text": [
      "[1, 2, 2, 3, 3, 4]\n"
     ]
    }
   ],
   "source": [
    "#Question 4) Create a function, which alternatingly combining the elements of two different list\n",
    "\n",
    "#A=input(\"Please enter a list for A: \")\n",
    "#B=input(\"Please enter a list for B: \")\n",
    "def altCom(A,B):\n",
    "    C=[]\n",
    "    if (len(A)==len(B)):\n",
    "        #print(\"hi\")\n",
    "        for x in range(len(A)):\n",
    "            C.append(A[x])\n",
    "            C.append(B[x])\n",
    "    else:\n",
    "        print(\"Please enter two lists with the same length\")\n",
    "    return C\n",
    "\n",
    "print(altCom([1,2,3],[2,3,4]))"
   ]
  },
  {
   "cell_type": "code",
   "execution_count": 9,
   "metadata": {
    "collapsed": false
   },
   "outputs": [
    {
     "name": "stdout",
     "output_type": "stream",
     "text": [
      "************\n",
      "* Hello    *\n",
      "* my       *\n",
      "* name     *\n",
      "* is       *\n",
      "* Daniel   *\n",
      "************\n"
     ]
    }
   ],
   "source": [
    "#Question 5) Create a function, which let users to enter a list of string,\n",
    "#            and print those strings in a new organize form\n",
    "\n",
    "\n",
    "def words(a,*b ):\n",
    "    print(\"************\")\n",
    "    for x in (a,*b):\n",
    "        if (9-len(x)==0):\n",
    "            print(\"* \"+ str(x) +\"*\")\n",
    "        if (9-len(x)==1):\n",
    "            print(\"* \"+ str(x) +\" *\")\n",
    "        if (9-len(x)==2):\n",
    "            print(\"* \"+ str(x) +\"  *\")\n",
    "        if (9-len(x)==3):\n",
    "            print(\"* \"+ str(x) +\"   *\")\n",
    "        if (9-len(x)==4):\n",
    "            print(\"* \"+ str(x) +\"    *\")\n",
    "        if (9-len(x)==5):\n",
    "            print(\"* \"+ str(x) +\"     *\")\n",
    "        if (9-len(x)==6):\n",
    "            print(\"* \"+ str(x) +\"      *\")\n",
    "        if (9-len(x)==7):\n",
    "            print(\"* \"+ str(x) +\"       *\")\n",
    "        if (9-len(x)==8):\n",
    "            print(\"* \"+ str(x) +\"        *\")\n",
    "    print(\"************\")\n",
    "    return \n",
    "\n",
    "\n",
    "words(\"Hello\",\"my\",\"name\",\"is\",\"Daniel\")\n",
    "        "
   ]
  },
  {
   "cell_type": "code",
   "execution_count": 11,
   "metadata": {
    "collapsed": false
   },
   "outputs": [
    {
     "name": "stdout",
     "output_type": "stream",
     "text": [
      "Please enter a string with single words as elements a s d f\n",
      "['a', 's', 'd', 'f']\n"
     ]
    }
   ],
   "source": [
    "#Question 6)  This function takes a string and creates a list with single words as elements\n",
    "\n",
    "elements=input(\"Please enter a string with single words as elements \")\n",
    "\n",
    "def cut(elements):\n",
    "    n=0\n",
    "    a=elements.split()\n",
    "    print(a)\n",
    "    return \n",
    "            \n",
    "    \n",
    "cut(elements)\n",
    "\n"
   ]
  },
  {
   "cell_type": "code",
   "execution_count": 17,
   "metadata": {
    "collapsed": false
   },
   "outputs": [
    {
     "name": "stdout",
     "output_type": "stream",
     "text": [
      "'The' appears: 1\n",
      "'house' appears: 1\n",
      "'of' appears: 1\n",
      "'the' appears: 2\n",
      "'flying' appears: 2\n",
      "'tigers' appears: 1\n",
      "'and' appears: 1\n",
      "'the' appears: 2\n",
      "'flying' appears: 2\n",
      "'roaches' appears: 1\n"
     ]
    }
   ],
   "source": [
    "#Question 7) This function counts how many times a word appears in a text.\n",
    "\n",
    "text = 'The house of the flying tigers and the flying roaches'\n",
    "\n",
    "def Occ(text):\n",
    "    text=text.split()\n",
    "    for x in text:\n",
    "        i=0\n",
    "        a=x\n",
    "        for y in text:\n",
    "            if (a == y):\n",
    "                i+=1\n",
    "        print(\"'\" + a + \"' appears: \" + str(i))\n",
    "    return \n",
    "\n",
    "Occ(text)"
   ]
  },
  {
   "cell_type": "code",
   "execution_count": 18,
   "metadata": {
    "collapsed": false
   },
   "outputs": [
    {
     "name": "stdout",
     "output_type": "stream",
     "text": [
      "The options are: \n",
      "1. fish\n",
      "2. beef\n",
      "What is your preference (1~2)?. Press X to exit: 2\n",
      "beef\n"
     ]
    }
   ],
   "source": [
    "#Question 8) This function prints the menus enter by the user in the terminal and ask the users for their perference\n",
    "\n",
    "def display_menus(a):\n",
    "    print(\"The options are: \")\n",
    "    n=1\n",
    "    for x in a:\n",
    "        print(str(n) +\". \"+ str(x))\n",
    "        n+=1\n",
    "        \n",
    "    choice = input(\"What is your preference (1~\" + str(len(a)) + \")?. Press X to exit: \")\n",
    "    if (choice == 'X' or choice =='x'):\n",
    "        return None\n",
    "    elif (int(choice)>=1 and int(choice)<n):\n",
    "        print(a[int(choice)-1])\n",
    "        return int(choice)\n",
    "    print(\"Try again\")    \n",
    "        \n",
    "    return\n",
    "\n",
    "menu = [\"fish\",\"beef\"]\n",
    "opt = display_menus(menu)\n",
    "\n",
    "#if option is None:\n",
    "    #program exits\n",
    "    "
   ]
  }
 ],
 "metadata": {
  "anaconda-cloud": {},
  "kernelspec": {
   "display_name": "Python [Root]",
   "language": "python",
   "name": "Python [Root]"
  },
  "language_info": {
   "codemirror_mode": {
    "name": "ipython",
    "version": 3
   },
   "file_extension": ".py",
   "mimetype": "text/x-python",
   "name": "python",
   "nbconvert_exporter": "python",
   "pygments_lexer": "ipython3",
   "version": "3.5.2"
  }
 },
 "nbformat": 4,
 "nbformat_minor": 0
}

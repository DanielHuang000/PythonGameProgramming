{
 "cells": [
  {
   "cell_type": "code",
   "execution_count": 20,
   "metadata": {
    "collapsed": false
   },
   "outputs": [
    {
     "name": "stdout",
     "output_type": "stream",
     "text": [
      "Hello World +1\n"
     ]
    }
   ],
   "source": [
    "import math\n",
    "print (\"Hello World +1\")"
   ]
  },
  {
   "cell_type": "code",
   "execution_count": 1,
   "metadata": {
    "collapsed": false
   },
   "outputs": [
    {
     "name": "stdout",
     "output_type": "stream",
     "text": [
      "please enter a interger for the length of the cubes: 1\n",
      "please enter a inter for the faces of the combination of cubes: 2\n",
      "\n",
      "This is the volume for the combination of 4 cubes:\n",
      "4\n",
      "This is the surface area of the combination of cubes:\n",
      "2\n"
     ]
    }
   ],
   "source": [
    "\"\"\"\n",
    "This is a program that computes the area and volume of the combination of cubes\n",
    "\"\"\"\n",
    "a=int(input(\"please enter a interger for the length of the cubes: \"))\n",
    "b=int(input(\"please enter a inter for the faces of the combination of cubes: \"))\n",
    "print(\"\")\n",
    "print(\"This is the volume for the combination of 4 cubes:\")\n",
    "print(pow(a,3)*4)\n",
    "print(\"This is the surface area of the combination of cubes:\")\n",
    "print(pow(a,2)*b)"
   ]
  },
  {
   "cell_type": "code",
   "execution_count": 68,
   "metadata": {
    "collapsed": false
   },
   "outputs": [
    {
     "name": "stdout",
     "output_type": "stream",
     "text": [
      "please enter A (interger) for the quadratic function Ax^2 +Bx +C : 1\n",
      "please enter B (interger) for the quadratic function Ax^2 +Bx +C : 4\n",
      "please enter C (interger) for the quadratic function Ax^2 +Bx +C : 4\n",
      "The answer is -2.0\n"
     ]
    }
   ],
   "source": [
    "\"\"\"\n",
    "This is a program that caculates the solution of the quadratic function\n",
    "\"\"\"\n",
    "A=int(input(\"please enter A (interger) for the quadratic function Ax^2 +Bx +C : \"))\n",
    "B=int(input(\"please enter B (interger) for the quadratic function Ax^2 +Bx +C : \"))\n",
    "C=int(input(\"please enter C (interger) for the quadratic function Ax^2 +Bx +C : \"))\n",
    "\n",
    "inside_sqrt = pow(B,2)-4*A*C\n",
    "if inside_sqrt < 0:\n",
    "    print(\"Error! please enter a correct number\")\n",
    "\n",
    "x=(-B + math.sqrt(pow(B,2)-4*A*C))/(2*A)\n",
    "y=(-B - math.sqrt(pow(B,2)-4*A*C))/(2*A)\n",
    "\n",
    "if x == y:\n",
    "    print(\"The answer is \" + str(x))\n",
    "else:\n",
    "    print(\"The answers are \" + str(x) + \" and \" + str(y))"
   ]
  },
  {
   "cell_type": "code",
   "execution_count": null,
   "metadata": {
    "collapsed": false
   },
   "outputs": [],
   "source": [
    "\n",
    "    "
   ]
  },
  {
   "cell_type": "code",
   "execution_count": null,
   "metadata": {
    "collapsed": false
   },
   "outputs": [],
   "source": []
  },
  {
   "cell_type": "code",
   "execution_count": null,
   "metadata": {
    "collapsed": false
   },
   "outputs": [],
   "source": []
  },
  {
   "cell_type": "code",
   "execution_count": null,
   "metadata": {
    "collapsed": false
   },
   "outputs": [],
   "source": []
  },
  {
   "cell_type": "code",
   "execution_count": null,
   "metadata": {
    "collapsed": true
   },
   "outputs": [],
   "source": []
  }
 ],
 "metadata": {
  "anaconda-cloud": {},
  "kernelspec": {
   "display_name": "Python [Root]",
   "language": "python",
   "name": "Python [Root]"
  },
  "language_info": {
   "codemirror_mode": {
    "name": "ipython",
    "version": 3
   },
   "file_extension": ".py",
   "mimetype": "text/x-python",
   "name": "python",
   "nbconvert_exporter": "python",
   "pygments_lexer": "ipython3",
   "version": "3.5.2"
  }
 },
 "nbformat": 4,
 "nbformat_minor": 0
}
